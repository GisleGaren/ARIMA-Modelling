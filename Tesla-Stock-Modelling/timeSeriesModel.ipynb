{
 "cells": [
  {
   "cell_type": "code",
   "execution_count": 7,
   "metadata": {},
   "outputs": [],
   "source": [
    "# Use-case 1: Stock Market Price Prediction for Tesla Stock\n",
    "\n",
    "# Begin by importing all necessary imports where we have decided to use a polynomial regression model to predict\n",
    "# the stock price of Tesla as stock prices seldomly fluctuate linearly. \n",
    "%matplotlib inline\n",
    "\n",
    "import numpy as np\n",
    "import pandas as pd\n",
    "import matplotlib.pyplot as plt\n",
    "\n",
    "from sklearn import metrics\n",
    "from sklearn import preprocessing\n",
    "from sklearn.linear_model import LinearRegression\n",
    "from sklearn.model_selection import train_test_split\n",
    "from sklearn.preprocessing import PolynomialFeatures\n",
    "from sklearn.linear_model import LinearRegression\n",
    "from sklearn.metrics import mean_squared_error\n",
    "from statsmodels.tsa.stattools import adfuller"
   ]
  },
  {
   "cell_type": "code",
   "execution_count": 8,
   "metadata": {},
   "outputs": [
    {
     "data": {
      "text/html": [
       "<div>\n",
       "<style scoped>\n",
       "    .dataframe tbody tr th:only-of-type {\n",
       "        vertical-align: middle;\n",
       "    }\n",
       "\n",
       "    .dataframe tbody tr th {\n",
       "        vertical-align: top;\n",
       "    }\n",
       "\n",
       "    .dataframe thead th {\n",
       "        text-align: right;\n",
       "    }\n",
       "</style>\n",
       "<table border=\"1\" class=\"dataframe\">\n",
       "  <thead>\n",
       "    <tr style=\"text-align: right;\">\n",
       "      <th></th>\n",
       "      <th>Date</th>\n",
       "      <th>Open</th>\n",
       "      <th>High</th>\n",
       "      <th>Low</th>\n",
       "      <th>Close</th>\n",
       "      <th>Adj Close</th>\n",
       "      <th>Volume</th>\n",
       "    </tr>\n",
       "  </thead>\n",
       "  <tbody>\n",
       "    <tr>\n",
       "      <th>0</th>\n",
       "      <td>2022-10-24</td>\n",
       "      <td>205.820007</td>\n",
       "      <td>213.500000</td>\n",
       "      <td>198.589996</td>\n",
       "      <td>211.250000</td>\n",
       "      <td>211.250000</td>\n",
       "      <td>100446800</td>\n",
       "    </tr>\n",
       "    <tr>\n",
       "      <th>1</th>\n",
       "      <td>2022-10-25</td>\n",
       "      <td>210.100006</td>\n",
       "      <td>224.350006</td>\n",
       "      <td>210.000000</td>\n",
       "      <td>222.419998</td>\n",
       "      <td>222.419998</td>\n",
       "      <td>96507900</td>\n",
       "    </tr>\n",
       "    <tr>\n",
       "      <th>2</th>\n",
       "      <td>2022-10-26</td>\n",
       "      <td>219.399994</td>\n",
       "      <td>230.600006</td>\n",
       "      <td>218.199997</td>\n",
       "      <td>224.639999</td>\n",
       "      <td>224.639999</td>\n",
       "      <td>85012500</td>\n",
       "    </tr>\n",
       "    <tr>\n",
       "      <th>3</th>\n",
       "      <td>2022-10-27</td>\n",
       "      <td>229.770004</td>\n",
       "      <td>233.809998</td>\n",
       "      <td>222.850006</td>\n",
       "      <td>225.089996</td>\n",
       "      <td>225.089996</td>\n",
       "      <td>61638800</td>\n",
       "    </tr>\n",
       "    <tr>\n",
       "      <th>4</th>\n",
       "      <td>2022-10-28</td>\n",
       "      <td>225.399994</td>\n",
       "      <td>228.860001</td>\n",
       "      <td>216.350006</td>\n",
       "      <td>228.520004</td>\n",
       "      <td>228.520004</td>\n",
       "      <td>69152400</td>\n",
       "    </tr>\n",
       "    <tr>\n",
       "      <th>...</th>\n",
       "      <td>...</td>\n",
       "      <td>...</td>\n",
       "      <td>...</td>\n",
       "      <td>...</td>\n",
       "      <td>...</td>\n",
       "      <td>...</td>\n",
       "      <td>...</td>\n",
       "    </tr>\n",
       "    <tr>\n",
       "      <th>245</th>\n",
       "      <td>2023-10-16</td>\n",
       "      <td>250.050003</td>\n",
       "      <td>255.399994</td>\n",
       "      <td>248.479996</td>\n",
       "      <td>253.919998</td>\n",
       "      <td>253.919998</td>\n",
       "      <td>88917200</td>\n",
       "    </tr>\n",
       "    <tr>\n",
       "      <th>246</th>\n",
       "      <td>2023-10-17</td>\n",
       "      <td>250.100006</td>\n",
       "      <td>257.179993</td>\n",
       "      <td>247.080002</td>\n",
       "      <td>254.850006</td>\n",
       "      <td>254.850006</td>\n",
       "      <td>93562900</td>\n",
       "    </tr>\n",
       "    <tr>\n",
       "      <th>247</th>\n",
       "      <td>2023-10-18</td>\n",
       "      <td>252.699997</td>\n",
       "      <td>254.630005</td>\n",
       "      <td>242.080002</td>\n",
       "      <td>242.679993</td>\n",
       "      <td>242.679993</td>\n",
       "      <td>125147800</td>\n",
       "    </tr>\n",
       "    <tr>\n",
       "      <th>248</th>\n",
       "      <td>2023-10-19</td>\n",
       "      <td>225.949997</td>\n",
       "      <td>230.610001</td>\n",
       "      <td>216.779999</td>\n",
       "      <td>220.110001</td>\n",
       "      <td>220.110001</td>\n",
       "      <td>170772700</td>\n",
       "    </tr>\n",
       "    <tr>\n",
       "      <th>249</th>\n",
       "      <td>2023-10-20</td>\n",
       "      <td>217.009995</td>\n",
       "      <td>218.860001</td>\n",
       "      <td>210.419998</td>\n",
       "      <td>211.990005</td>\n",
       "      <td>211.990005</td>\n",
       "      <td>137734000</td>\n",
       "    </tr>\n",
       "  </tbody>\n",
       "</table>\n",
       "<p>250 rows × 7 columns</p>\n",
       "</div>"
      ],
      "text/plain": [
       "           Date        Open        High         Low       Close   Adj Close  \\\n",
       "0    2022-10-24  205.820007  213.500000  198.589996  211.250000  211.250000   \n",
       "1    2022-10-25  210.100006  224.350006  210.000000  222.419998  222.419998   \n",
       "2    2022-10-26  219.399994  230.600006  218.199997  224.639999  224.639999   \n",
       "3    2022-10-27  229.770004  233.809998  222.850006  225.089996  225.089996   \n",
       "4    2022-10-28  225.399994  228.860001  216.350006  228.520004  228.520004   \n",
       "..          ...         ...         ...         ...         ...         ...   \n",
       "245  2023-10-16  250.050003  255.399994  248.479996  253.919998  253.919998   \n",
       "246  2023-10-17  250.100006  257.179993  247.080002  254.850006  254.850006   \n",
       "247  2023-10-18  252.699997  254.630005  242.080002  242.679993  242.679993   \n",
       "248  2023-10-19  225.949997  230.610001  216.779999  220.110001  220.110001   \n",
       "249  2023-10-20  217.009995  218.860001  210.419998  211.990005  211.990005   \n",
       "\n",
       "        Volume  \n",
       "0    100446800  \n",
       "1     96507900  \n",
       "2     85012500  \n",
       "3     61638800  \n",
       "4     69152400  \n",
       "..         ...  \n",
       "245   88917200  \n",
       "246   93562900  \n",
       "247  125147800  \n",
       "248  170772700  \n",
       "249  137734000  \n",
       "\n",
       "[250 rows x 7 columns]"
      ]
     },
     "execution_count": 8,
     "metadata": {},
     "output_type": "execute_result"
    }
   ],
   "source": [
    "# First, we need to read in the csv data that we downloaded from the Tesla Yahoo pages.\n",
    "url = \"/Users/gisle/Documents/ARIMA-MODELLING/Tesla-Stock-Modelling/TSLA.csv\"\n",
    "# Create a data frame out of the raw data that we downloaded from Yahoo\n",
    "df = pd.read_csv(url)\n",
    "df"
   ]
  },
  {
   "cell_type": "code",
   "execution_count": 9,
   "metadata": {},
   "outputs": [
    {
     "data": {
      "image/png": "[encoded data removed]",
      "text/plain": [
       "<Figure size 640x480 with 1 Axes>"
      ]
     },
     "metadata": {},
     "output_type": "display_data"
    }
   ],
   "source": [
    "# Now we want to create a scatterplot where input is the date and the output is the closing price of the Tesla Stock\n",
    "plt.scatter(x='Date', y='Close', data=df)\n",
    "plt.xticks(df['Date'][::30], rotation=45)  # Label every 30th date, and rotate labels by 45 degrees for readability\n",
    "plt.xlabel('Date')\n",
    "plt.ylabel('Close Price')\n",
    "plt.show()"
   ]
  },
  {
   "cell_type": "code",
   "execution_count": 17,
   "metadata": {},
   "outputs": [
    {
     "name": "stdout",
     "output_type": "stream",
     "text": [
      "Test Statistic: -1.718939\n",
      "p-value: 0.421382\n",
      "\t1%: -3.457\n",
      "\t5%: -2.873\n",
      "\t10%: -2.573\n"
     ]
    }
   ],
   "source": [
    "# Now that we have visualized the stock price of this graph so far, let's apply the ARIMA model to the dataset.\n",
    "\n",
    "# First we need to apply a stationary check to ensure that the time series are stationary\n",
    "\n",
    "# Check for stationarity by performing the Dickey-Fuller test and we typically do this using the close price as the dependent variable\n",
    "result = adfuller(df['Close'])\n",
    "print('Test Statistic: %f' % result[0])\n",
    "print('p-value: %f' % result[1])\n",
    "\n",
    "# Calculate the critical values\n",
    "for key, value in result[4].items():\n",
    "    print('\\t%s: %.3f' % (key, value))\n"
   ]
  },
  {
   "cell_type": "code",
   "execution_count": 20,
   "metadata": {},
   "outputs": [
    {
     "name": "stdout",
     "output_type": "stream",
     "text": [
      "Test Statistic: -5.935242\n",
      "p-value: 0.000000\n"
     ]
    }
   ],
   "source": [
    "\"\"\" The test is not negative enough to strongly reject the null hypothesis of a unit root, i.e the significance of this is not enough to \n",
    "    rule out a unit root!\n",
    "      \n",
    "    The p value of 0.42 is very high, much higher than 0.01 or 0.05 so that there's not enough evidence to reject the null hypothesis of the presence\n",
    "    of a unit root, so there's a fair chance that the series is non-stationary. Then we must transform the series to make it stationary! \"\"\"\n",
    "\n",
    "# Through trial and error, let's start off with differencing the data set\n",
    "df['Close_diff'] = df['Close'].diff()\n",
    "df = df.dropna()  # Drop rows with NaN values because otherwise we'd get errors with missing values\n",
    "\n",
    "result1 = adfuller(df['Close_diff'])\n",
    "print('Test Statistic: %f' % result1[0])\n",
    "print('p-value: %f' % result1[1])"
   ]
  },
  {
   "cell_type": "code",
   "execution_count": 22,
   "metadata": {},
   "outputs": [
    {
     "name": "stdout",
     "output_type": "stream",
     "text": [
      "Test Statistic: -5.935242\n",
      "p-value: 0.000000\n"
     ]
    }
   ],
   "source": [
    "\"\"\" More promising results with the test statistic, but the 0 p value is very suspicious. \n",
    "    We'll add the log transformation to double check our calculations. \"\"\"\n",
    "\n",
    "# .loc acessor to state that we want to modify the original data frame\n",
    "# Apply log transformation to the original 'Close' series\n",
    "df.loc[:, 'Close_log'] = np.log(df['Close'])\n",
    "# Calculate the first difference of the log-transformed series\n",
    "df.loc[:, 'Close_log_diff'] = df['Close_log'].diff().dropna()\n",
    "\n",
    "# Perform the ADF test on the first difference of the log-transformed series\n",
    "result_log_diff = adfuller(df['Close_log_diff'].dropna())\n",
    "print('Test Statistic: %f' % result_log_diff[0])\n",
    "print('p-value: %f' % result_log_diff[1])"
   ]
  },
  {
   "cell_type": "code",
   "execution_count": 13,
   "metadata": {},
   "outputs": [
    {
     "data": {
      "text/plain": [
       "'\\n\\n# The code below calculates the R squared score, which is a measurement of the variance of the predicted data compared to the real data.\\n# In other words, we are simply observing how well the predicted plot compares to the actual plot. 0 is the lowest which means that there is a very\\n# poor fit, whilst 1 represents a perfect fit. In the print method below, we simply multiply it by 100 to get our predicted \"percentage\" score.\\nr2_score = model.score(X_poly_test, y_test)\\nprint(f\"R-squared (prediction percentage) score: {r2_score * 100:.2f}%\") '"
      ]
     },
     "execution_count": 13,
     "metadata": {},
     "output_type": "execute_result"
    }
   ],
   "source": [
    "\"\"\"\n",
    "\n",
    "# The code below calculates the R squared score, which is a measurement of the variance of the predicted data compared to the real data.\n",
    "# In other words, we are simply observing how well the predicted plot compares to the actual plot. 0 is the lowest which means that there is a very\n",
    "# poor fit, whilst 1 represents a perfect fit. In the print method below, we simply multiply it by 100 to get our predicted \"percentage\" score.\n",
    "r2_score = model.score(X_poly_test, y_test)\n",
    "print(f\"R-squared (prediction percentage) score: {r2_score * 100:.2f}%\") \"\"\"\n"
   ]
  },
  {
   "cell_type": "code",
   "execution_count": 14,
   "metadata": {},
   "outputs": [
    {
     "name": "stdout",
     "output_type": "stream",
     "text": [
      "\n",
      "     active environment : dave3625\n",
      "    active env location : C:\\Users\\gisle\\miniconda3\\envs\\dave3625\n",
      "            shell level : 1\n",
      "       user config file : C:\\Users\\gisle\\.condarc\n",
      " populated config files : C:\\Users\\gisle\\.condarc\n",
      "          conda version : 23.7.4\n",
      "    conda-build version : not installed\n",
      "         python version : 3.11.4.final.0\n",
      "       virtual packages : __archspec=1=x86_64\n",
      "                          __win=0=0\n",
      "       base environment : C:\\Users\\gisle\\miniconda3  (writable)\n",
      "      conda av data dir : C:\\Users\\gisle\\miniconda3\\etc\\conda\n",
      "  conda av metadata url : None\n",
      "           channel URLs : https://repo.anaconda.com/pkgs/main/win-64\n",
      "                          https://repo.anaconda.com/pkgs/main/noarch\n",
      "                          https://repo.anaconda.com/pkgs/r/win-64\n",
      "                          https://repo.anaconda.com/pkgs/r/noarch\n",
      "                          https://repo.anaconda.com/pkgs/msys2/win-64\n",
      "                          https://repo.anaconda.com/pkgs/msys2/noarch\n",
      "          package cache : C:\\Users\\gisle\\miniconda3\\pkgs\n",
      "                          C:\\Users\\gisle\\.conda\\pkgs\n",
      "                          C:\\Users\\gisle\\AppData\\Local\\conda\\conda\\pkgs\n",
      "       envs directories : C:\\Users\\gisle\\miniconda3\\envs\n",
      "                          C:\\Users\\gisle\\.conda\\envs\n",
      "                          C:\\Users\\gisle\\AppData\\Local\\conda\\conda\\envs\n",
      "               platform : win-64\n",
      "             user-agent : conda/23.7.4 requests/2.31.0 CPython/3.11.4 Windows/10 Windows/10.0.22631\n",
      "          administrator : False\n",
      "             netrc file : None\n",
      "           offline mode : False\n",
      "\n",
      "\n"
     ]
    }
   ],
   "source": [
    "!conda info"
   ]
  }
 ],
 "metadata": {
  "kernelspec": {
   "display_name": "dave3625",
   "language": "python",
   "name": "python3"
  },
  "language_info": {
   "codemirror_mode": {
    "name": "ipython",
    "version": 3
   },
   "file_extension": ".py",
   "mimetype": "text/x-python",
   "name": "python",
   "nbconvert_exporter": "python",
   "pygments_lexer": "ipython3",
   "version": "3.8.18"
  }
 },
 "nbformat": 4,
 "nbformat_minor": 2
}
